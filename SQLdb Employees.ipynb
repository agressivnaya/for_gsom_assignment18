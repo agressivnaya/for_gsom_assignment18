{
 "cells": [
  {
   "cell_type": "code",
   "execution_count": 1,
   "id": "11a43c5b-e0e4-4b01-8d2c-f120c1905e77",
   "metadata": {
    "tags": []
   },
   "outputs": [
    {
     "name": "stdout",
     "output_type": "stream",
     "text": [
      "Requirement already satisfied: ipython-sql in /opt/conda/lib/python3.10/site-packages (0.5.0)\n",
      "Requirement already satisfied: prettytable in /opt/conda/lib/python3.10/site-packages (from ipython-sql) (3.7.0)\n",
      "Requirement already satisfied: sqlalchemy>=2.0 in /opt/conda/lib/python3.10/site-packages (from ipython-sql) (2.0.7)\n",
      "Requirement already satisfied: ipython in /opt/conda/lib/python3.10/site-packages (from ipython-sql) (8.11.0)\n",
      "Requirement already satisfied: sqlparse in /opt/conda/lib/python3.10/site-packages (from ipython-sql) (0.4.4)\n",
      "Requirement already satisfied: six in /opt/conda/lib/python3.10/site-packages (from ipython-sql) (1.16.0)\n",
      "Requirement already satisfied: ipython-genutils in /opt/conda/lib/python3.10/site-packages (from ipython-sql) (0.2.0)\n",
      "Requirement already satisfied: typing-extensions>=4.2.0 in /opt/conda/lib/python3.10/site-packages (from sqlalchemy>=2.0->ipython-sql) (4.5.0)\n",
      "Requirement already satisfied: greenlet!=0.4.17 in /opt/conda/lib/python3.10/site-packages (from sqlalchemy>=2.0->ipython-sql) (2.0.2)\n",
      "Requirement already satisfied: prompt-toolkit!=3.0.37,<3.1.0,>=3.0.30 in /opt/conda/lib/python3.10/site-packages (from ipython->ipython-sql) (3.0.38)\n",
      "Requirement already satisfied: jedi>=0.16 in /opt/conda/lib/python3.10/site-packages (from ipython->ipython-sql) (0.18.2)\n",
      "Requirement already satisfied: pygments>=2.4.0 in /opt/conda/lib/python3.10/site-packages (from ipython->ipython-sql) (2.14.0)\n",
      "Requirement already satisfied: traitlets>=5 in /opt/conda/lib/python3.10/site-packages (from ipython->ipython-sql) (5.9.0)\n",
      "Requirement already satisfied: matplotlib-inline in /opt/conda/lib/python3.10/site-packages (from ipython->ipython-sql) (0.1.6)\n",
      "Requirement already satisfied: backcall in /opt/conda/lib/python3.10/site-packages (from ipython->ipython-sql) (0.2.0)\n",
      "Requirement already satisfied: stack-data in /opt/conda/lib/python3.10/site-packages (from ipython->ipython-sql) (0.6.2)\n",
      "Requirement already satisfied: pexpect>4.3 in /opt/conda/lib/python3.10/site-packages (from ipython->ipython-sql) (4.8.0)\n",
      "Requirement already satisfied: pickleshare in /opt/conda/lib/python3.10/site-packages (from ipython->ipython-sql) (0.7.5)\n",
      "Requirement already satisfied: decorator in /opt/conda/lib/python3.10/site-packages (from ipython->ipython-sql) (5.1.1)\n",
      "Requirement already satisfied: wcwidth in /opt/conda/lib/python3.10/site-packages (from prettytable->ipython-sql) (0.2.6)\n",
      "Requirement already satisfied: parso<0.9.0,>=0.8.0 in /opt/conda/lib/python3.10/site-packages (from jedi>=0.16->ipython->ipython-sql) (0.8.3)\n",
      "Requirement already satisfied: ptyprocess>=0.5 in /opt/conda/lib/python3.10/site-packages (from pexpect>4.3->ipython->ipython-sql) (0.7.0)\n",
      "Requirement already satisfied: asttokens>=2.1.0 in /opt/conda/lib/python3.10/site-packages (from stack-data->ipython->ipython-sql) (2.2.1)\n",
      "Requirement already satisfied: executing>=1.2.0 in /opt/conda/lib/python3.10/site-packages (from stack-data->ipython->ipython-sql) (1.2.0)\n",
      "Requirement already satisfied: pure-eval in /opt/conda/lib/python3.10/site-packages (from stack-data->ipython->ipython-sql) (0.2.2)\n",
      "\u001b[33mWARNING: There was an error checking the latest version of pip.\u001b[0m\u001b[33m\n",
      "\u001b[0m"
     ]
    }
   ],
   "source": [
    "!pip install ipython-sql\n",
    "%load_ext sql"
   ]
  },
  {
   "cell_type": "code",
   "execution_count": 2,
   "id": "df8a9727-1e12-4ffb-96ed-764eef23f633",
   "metadata": {},
   "outputs": [
    {
     "name": "stdout",
     "output_type": "stream",
     "text": [
      "[('postgres',), ('jovyan',), ('template1',), ('template0',)]\n"
     ]
    }
   ],
   "source": [
    "import psycopg2\n",
    "\n",
    "with psycopg2.connect(\n",
    "    dbname='jovyan'\n",
    ") as conn:\n",
    "    with conn.cursor() as cur:\n",
    "        cur.execute('SELECT datname FROM pg_database')\n",
    "        records = cur.fetchall()\n",
    "        \n",
    "print(records)"
   ]
  },
  {
   "cell_type": "code",
   "execution_count": 3,
   "id": "68f8320f-4a75-42e7-bd8e-e5fb9b55ab1a",
   "metadata": {
    "tags": []
   },
   "outputs": [
    {
     "name": "stdout",
     "output_type": "stream",
     "text": [
      "Done.\n",
      "Done.\n"
     ]
    },
    {
     "data": {
      "text/plain": [
       "[]"
      ]
     },
     "execution_count": 3,
     "metadata": {},
     "output_type": "execute_result"
    }
   ],
   "source": [
    "%%sql postgresql:///jovyan\n",
    "CREATE TABLE Departments (\n",
    "    department_id smallint NOT NULL PRIMARY KEY,\n",
    "    department_name text NOT NULL,\n",
    "    manager_id smallint\n",
    ");\n",
    "\n",
    "CREATE TABLE Employees (\n",
    "    employee_id smallint UNIQUE NOT NULL,\n",
    "    first_name text NOT NULL,\n",
    "    last_name text NOT NULL,\n",
    "    hire_date date NOT NULL,\n",
    "    job_id varchar(20),\n",
    "    manager_id smallint,\n",
    "    department_id smallint,\n",
    "    FOREIGN KEY (department_id) REFERENCES Departments(department_id)\n",
    ");"
   ]
  },
  {
   "cell_type": "code",
   "execution_count": 4,
   "id": "f1c620db-e6c2-4d30-bdb4-f6dd89e1defe",
   "metadata": {
    "tags": []
   },
   "outputs": [
    {
     "name": "stdout",
     "output_type": "stream",
     "text": [
      "1 rows affected.\n",
      "1 rows affected.\n",
      "1 rows affected.\n",
      "1 rows affected.\n",
      "1 rows affected.\n",
      "1 rows affected.\n",
      "1 rows affected.\n",
      "1 rows affected.\n",
      "1 rows affected.\n",
      "1 rows affected.\n"
     ]
    },
    {
     "data": {
      "text/plain": [
       "[]"
      ]
     },
     "execution_count": 4,
     "metadata": {},
     "output_type": "execute_result"
    }
   ],
   "source": [
    "%%sql postgresql:///jovyan\n",
    "INSERT INTO Departments VALUES ('10','Administration','200');\n",
    "INSERT INTO Departments VALUES ('30','Purchasing','114');\n",
    "INSERT INTO Departments VALUES ('40','HumanResources','203');\n",
    "INSERT INTO Departments VALUES ('50','Shipping','121');\n",
    "INSERT INTO Departments VALUES ('60','IT','103');\n",
    "INSERT INTO Departments VALUES ('70','PublicRelations','204');\n",
    "INSERT INTO Departments VALUES ('80','Sales','145');\n",
    "INSERT INTO Departments VALUES ('90','Executive','100');\n",
    "INSERT INTO Departments VALUES ('100','Finance','108');\n",
    "INSERT INTO Departments VALUES ('110','Accounting','205')"
   ]
  },
  {
   "cell_type": "code",
   "execution_count": 5,
   "id": "97a31c86-d144-4d33-946f-204dc41bfea6",
   "metadata": {
    "tags": []
   },
   "outputs": [
    {
     "name": "stdout",
     "output_type": "stream",
     "text": [
      "1 rows affected.\n",
      "1 rows affected.\n",
      "1 rows affected.\n",
      "1 rows affected.\n",
      "1 rows affected.\n",
      "1 rows affected.\n",
      "1 rows affected.\n",
      "1 rows affected.\n",
      "1 rows affected.\n",
      "1 rows affected.\n",
      "1 rows affected.\n",
      "1 rows affected.\n"
     ]
    },
    {
     "data": {
      "text/plain": [
       "[]"
      ]
     },
     "execution_count": 5,
     "metadata": {},
     "output_type": "execute_result"
    }
   ],
   "source": [
    "%%sql postgresql:///jovyan\n",
    "INSERT INTO Employees VALUES ('100','Steven','King','1987-06-17','AD_PRES','0','90');\n",
    "INSERT INTO Employees VALUES ('101','Neena', 'Kochhar','1987-06-18','AD_VP','100','90');\n",
    "INSERT INTO Employees VALUES ('102','Lex','DeHaan','1987-06-19','AD_VP','100','90');\n",
    "INSERT INTO Employees VALUES ('103','Alexander','Hunold','1987-06-20','IT_PROG','102','60');\n",
    "INSERT INTO Employees VALUES ('107','Diana','Lorentz','1987-06-24','IT_PROG','103','60');\n",
    "INSERT INTO Employees VALUES ('108','Nancy','Greenberg','1987-06-25','FI_MGR','101','100');\n",
    "INSERT INTO Employees VALUES ('109','Daniel','Faviet','1987-06-26','FI_ACCOUNT','108','100');\n",
    "INSERT INTO Employees VALUES ('114','Den','Raphaely','1987-07-01','PU_MAN','100','30');\n",
    "INSERT INTO Employees VALUES ('118','Guy','Himuro','1987-07-05','PU_CLERK','114','30');\n",
    "INSERT INTO Employees VALUES ('144','Peter','Vargas','1987-07-31','ST_CLERK','114','50');\n",
    "INSERT INTO Employees VALUES ('145','John','Russell','1987-08-01','SA_MAN','100','80');\n",
    "INSERT INTO Employees VALUES ('146','Karen','Partners','1987-08-02','SA_MAN','100','80')"
   ]
  },
  {
   "cell_type": "code",
   "execution_count": 8,
   "id": "1f7df827-f053-406c-aa8e-6b20285d935c",
   "metadata": {
    "tags": []
   },
   "outputs": [
    {
     "name": "stdout",
     "output_type": "stream",
     "text": [
      "12 rows affected.\n"
     ]
    },
    {
     "data": {
      "text/html": [
       "<table>\n",
       "    <thead>\n",
       "        <tr>\n",
       "            <th>employee_id</th>\n",
       "            <th>first_name</th>\n",
       "            <th>last_name</th>\n",
       "            <th>hire_date</th>\n",
       "            <th>job_id</th>\n",
       "            <th>manager_id</th>\n",
       "            <th>department_id</th>\n",
       "        </tr>\n",
       "    </thead>\n",
       "    <tbody>\n",
       "        <tr>\n",
       "            <td>100</td>\n",
       "            <td>Steven</td>\n",
       "            <td>King</td>\n",
       "            <td>1987-06-17</td>\n",
       "            <td>AD_PRES</td>\n",
       "            <td>0</td>\n",
       "            <td>90</td>\n",
       "        </tr>\n",
       "        <tr>\n",
       "            <td>101</td>\n",
       "            <td>Neena</td>\n",
       "            <td>Kochhar</td>\n",
       "            <td>1987-06-18</td>\n",
       "            <td>AD_VP</td>\n",
       "            <td>100</td>\n",
       "            <td>90</td>\n",
       "        </tr>\n",
       "        <tr>\n",
       "            <td>102</td>\n",
       "            <td>Lex</td>\n",
       "            <td>DeHaan</td>\n",
       "            <td>1987-06-19</td>\n",
       "            <td>AD_VP</td>\n",
       "            <td>100</td>\n",
       "            <td>90</td>\n",
       "        </tr>\n",
       "        <tr>\n",
       "            <td>103</td>\n",
       "            <td>Alexander</td>\n",
       "            <td>Hunold</td>\n",
       "            <td>1987-06-20</td>\n",
       "            <td>IT_PROG</td>\n",
       "            <td>102</td>\n",
       "            <td>60</td>\n",
       "        </tr>\n",
       "        <tr>\n",
       "            <td>107</td>\n",
       "            <td>Diana</td>\n",
       "            <td>Lorentz</td>\n",
       "            <td>1987-06-24</td>\n",
       "            <td>IT_PROG</td>\n",
       "            <td>103</td>\n",
       "            <td>60</td>\n",
       "        </tr>\n",
       "        <tr>\n",
       "            <td>108</td>\n",
       "            <td>Nancy</td>\n",
       "            <td>Greenberg</td>\n",
       "            <td>1987-06-25</td>\n",
       "            <td>FI_MGR</td>\n",
       "            <td>101</td>\n",
       "            <td>100</td>\n",
       "        </tr>\n",
       "        <tr>\n",
       "            <td>109</td>\n",
       "            <td>Daniel</td>\n",
       "            <td>Faviet</td>\n",
       "            <td>1987-06-26</td>\n",
       "            <td>FI_ACCOUNT</td>\n",
       "            <td>108</td>\n",
       "            <td>100</td>\n",
       "        </tr>\n",
       "        <tr>\n",
       "            <td>114</td>\n",
       "            <td>Den</td>\n",
       "            <td>Raphaely</td>\n",
       "            <td>1987-07-01</td>\n",
       "            <td>PU_MAN</td>\n",
       "            <td>100</td>\n",
       "            <td>30</td>\n",
       "        </tr>\n",
       "        <tr>\n",
       "            <td>118</td>\n",
       "            <td>Guy</td>\n",
       "            <td>Himuro</td>\n",
       "            <td>1987-07-05</td>\n",
       "            <td>PU_CLERK</td>\n",
       "            <td>114</td>\n",
       "            <td>30</td>\n",
       "        </tr>\n",
       "        <tr>\n",
       "            <td>144</td>\n",
       "            <td>Peter</td>\n",
       "            <td>Vargas</td>\n",
       "            <td>1987-07-31</td>\n",
       "            <td>ST_CLERK</td>\n",
       "            <td>114</td>\n",
       "            <td>50</td>\n",
       "        </tr>\n",
       "        <tr>\n",
       "            <td>145</td>\n",
       "            <td>John</td>\n",
       "            <td>Russell</td>\n",
       "            <td>1987-08-01</td>\n",
       "            <td>SA_MAN</td>\n",
       "            <td>100</td>\n",
       "            <td>80</td>\n",
       "        </tr>\n",
       "        <tr>\n",
       "            <td>146</td>\n",
       "            <td>Karen</td>\n",
       "            <td>Partners</td>\n",
       "            <td>1987-08-02</td>\n",
       "            <td>SA_MAN</td>\n",
       "            <td>100</td>\n",
       "            <td>80</td>\n",
       "        </tr>\n",
       "    </tbody>\n",
       "</table>"
      ],
      "text/plain": [
       "[(100, 'Steven', 'King', datetime.date(1987, 6, 17), 'AD_PRES', 0, 90),\n",
       " (101, 'Neena', 'Kochhar', datetime.date(1987, 6, 18), 'AD_VP', 100, 90),\n",
       " (102, 'Lex', 'DeHaan', datetime.date(1987, 6, 19), 'AD_VP', 100, 90),\n",
       " (103, 'Alexander', 'Hunold', datetime.date(1987, 6, 20), 'IT_PROG', 102, 60),\n",
       " (107, 'Diana', 'Lorentz', datetime.date(1987, 6, 24), 'IT_PROG', 103, 60),\n",
       " (108, 'Nancy', 'Greenberg', datetime.date(1987, 6, 25), 'FI_MGR', 101, 100),\n",
       " (109, 'Daniel', 'Faviet', datetime.date(1987, 6, 26), 'FI_ACCOUNT', 108, 100),\n",
       " (114, 'Den', 'Raphaely', datetime.date(1987, 7, 1), 'PU_MAN', 100, 30),\n",
       " (118, 'Guy', 'Himuro', datetime.date(1987, 7, 5), 'PU_CLERK', 114, 30),\n",
       " (144, 'Peter', 'Vargas', datetime.date(1987, 7, 31), 'ST_CLERK', 114, 50),\n",
       " (145, 'John', 'Russell', datetime.date(1987, 8, 1), 'SA_MAN', 100, 80),\n",
       " (146, 'Karen', 'Partners', datetime.date(1987, 8, 2), 'SA_MAN', 100, 80)]"
      ]
     },
     "execution_count": 8,
     "metadata": {},
     "output_type": "execute_result"
    }
   ],
   "source": [
    "%%sql postgresql:///jovyan\n",
    "SELECT * FROM Employees"
   ]
  },
  {
   "cell_type": "code",
   "execution_count": 9,
   "id": "89c84159-d726-41fa-915d-9898ce4eb93b",
   "metadata": {},
   "outputs": [
    {
     "name": "stdout",
     "output_type": "stream",
     "text": [
      "10 rows affected.\n"
     ]
    },
    {
     "data": {
      "text/html": [
       "<table>\n",
       "    <thead>\n",
       "        <tr>\n",
       "            <th>department_id</th>\n",
       "            <th>department_name</th>\n",
       "            <th>manager_id</th>\n",
       "        </tr>\n",
       "    </thead>\n",
       "    <tbody>\n",
       "        <tr>\n",
       "            <td>10</td>\n",
       "            <td>Administration</td>\n",
       "            <td>200</td>\n",
       "        </tr>\n",
       "        <tr>\n",
       "            <td>30</td>\n",
       "            <td>Purchasing</td>\n",
       "            <td>114</td>\n",
       "        </tr>\n",
       "        <tr>\n",
       "            <td>40</td>\n",
       "            <td>HumanResources</td>\n",
       "            <td>203</td>\n",
       "        </tr>\n",
       "        <tr>\n",
       "            <td>50</td>\n",
       "            <td>Shipping</td>\n",
       "            <td>121</td>\n",
       "        </tr>\n",
       "        <tr>\n",
       "            <td>60</td>\n",
       "            <td>IT</td>\n",
       "            <td>103</td>\n",
       "        </tr>\n",
       "        <tr>\n",
       "            <td>70</td>\n",
       "            <td>PublicRelations</td>\n",
       "            <td>204</td>\n",
       "        </tr>\n",
       "        <tr>\n",
       "            <td>80</td>\n",
       "            <td>Sales</td>\n",
       "            <td>145</td>\n",
       "        </tr>\n",
       "        <tr>\n",
       "            <td>90</td>\n",
       "            <td>Executive</td>\n",
       "            <td>100</td>\n",
       "        </tr>\n",
       "        <tr>\n",
       "            <td>100</td>\n",
       "            <td>Finance</td>\n",
       "            <td>108</td>\n",
       "        </tr>\n",
       "        <tr>\n",
       "            <td>110</td>\n",
       "            <td>Accounting</td>\n",
       "            <td>205</td>\n",
       "        </tr>\n",
       "    </tbody>\n",
       "</table>"
      ],
      "text/plain": [
       "[(10, 'Administration', 200),\n",
       " (30, 'Purchasing', 114),\n",
       " (40, 'HumanResources', 203),\n",
       " (50, 'Shipping', 121),\n",
       " (60, 'IT', 103),\n",
       " (70, 'PublicRelations', 204),\n",
       " (80, 'Sales', 145),\n",
       " (90, 'Executive', 100),\n",
       " (100, 'Finance', 108),\n",
       " (110, 'Accounting', 205)]"
      ]
     },
     "execution_count": 9,
     "metadata": {},
     "output_type": "execute_result"
    }
   ],
   "source": [
    "%%sql postgresql:///jovyan\n",
    "SELECT * FROM Departments"
   ]
  },
  {
   "cell_type": "markdown",
   "id": "593f58f7-f0c3-45c8-a3da-c7e0c7a0136a",
   "metadata": {},
   "source": [
    "### A query: output the Department_name which has the longest-working employee in the company, together with the First_name + Last_name of this employee."
   ]
  },
  {
   "cell_type": "code",
   "execution_count": 25,
   "id": "89a08d7c-6560-429b-8ab6-61fa303362d4",
   "metadata": {
    "tags": []
   },
   "outputs": [
    {
     "name": "stdout",
     "output_type": "stream",
     "text": [
      "1 rows affected.\n"
     ]
    },
    {
     "data": {
      "text/html": [
       "<table>\n",
       "    <thead>\n",
       "        <tr>\n",
       "            <th>department_name</th>\n",
       "            <th>longest_working_employee</th>\n",
       "        </tr>\n",
       "    </thead>\n",
       "    <tbody>\n",
       "        <tr>\n",
       "            <td>Executive</td>\n",
       "            <td>Steven King</td>\n",
       "        </tr>\n",
       "    </tbody>\n",
       "</table>"
      ],
      "text/plain": [
       "[('Executive', 'Steven King')]"
      ]
     },
     "execution_count": 25,
     "metadata": {},
     "output_type": "execute_result"
    }
   ],
   "source": [
    "%%sql postgresql:///jovyan\n",
    "SELECT d.department_name, (e.first_name||' '||e.last_name) as longest_working_employee\n",
    "FROM Employees e\n",
    "JOIN Departments d USING (department_id)\n",
    "WHERE hire_date = (\n",
    "    SELECT MIN(hire_date)\n",
    "    FROM Employees\n",
    ")"
   ]
  },
  {
   "cell_type": "code",
   "execution_count": null,
   "id": "32e75ba8-bb84-4578-9f63-08cc54b14009",
   "metadata": {},
   "outputs": [],
   "source": []
  }
 ],
 "metadata": {
  "kernelspec": {
   "display_name": "Python 3 (ipykernel)",
   "language": "python",
   "name": "python3"
  },
  "language_info": {
   "codemirror_mode": {
    "name": "ipython",
    "version": 3
   },
   "file_extension": ".py",
   "mimetype": "text/x-python",
   "name": "python",
   "nbconvert_exporter": "python",
   "pygments_lexer": "ipython3",
   "version": "3.10.9"
  }
 },
 "nbformat": 4,
 "nbformat_minor": 5
}
